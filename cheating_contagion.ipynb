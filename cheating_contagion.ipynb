{
 "cells": [
  {
   "cell_type": "markdown",
   "metadata": {},
   "source": [
    "### Code"
   ]
  },
  {
   "cell_type": "code",
   "execution_count": 1,
   "metadata": {},
   "outputs": [],
   "source": [
    "# Modules\n",
    "import get_data as gd \n",
    "import cheat_contagion as cc\n",
    "import alt_universe as au\n"
   ]
  },
  {
   "cell_type": "code",
   "execution_count": 2,
   "metadata": {},
   "outputs": [
    {
     "name": "stdout",
     "output_type": "stream",
     "text": [
      "Kills data overview:\n",
      " ['040d4435-9603-4640-b50e-7a3b3077392f', 'account.ba877183bdfd407ab6db337eca604eb9', 'account.f917b3772bf94def84958e6042c7b6ae', datetime.date(2019, 3, 10), datetime.time(0, 24, 33, 868)]\n",
      "Cheaters data overview:\n",
      " {'account.4c2ff8d26c594ca88e78a3ae1afd9bde': [datetime.date(2019, 3, 1), datetime.date(2019, 3, 3)], 'account.e0d28cb829634b81bb61ee434bee1dcc': [datetime.date(2019, 3, 5), datetime.date(2019, 3, 9)]}\n",
      "Number of killings: 516880\n",
      "Number of cheaters: 2295\n"
     ]
    }
   ],
   "source": [
    "# Stage 1. Get data\n",
    "killings = gd.get_killings_data('data/kills.txt', 3, 4) \n",
    "cheaters = gd.get_cheaters_data('data/cheaters.txt', 1, 2)\n",
    "\n",
    "# Data overview\n",
    "print('Kills data overview:\\n', killings[0])\n",
    "print('Cheaters data overview:\\n', dict(list(cheaters.items())[0:2]))\n",
    "print('Number of killings:', len(killings))\n",
    "print('Number of cheaters:', len(cheaters.keys()))"
   ]
  },
  {
   "cell_type": "code",
   "execution_count": 3,
   "metadata": {},
   "outputs": [
    {
     "name": "stdout",
     "output_type": "stream",
     "text": [
      "Number of times cheating behavior was observed: 70981\n",
      "Number of observer-cheater motifs: 731\n"
     ]
    }
   ],
   "source": [
    "# Stage 2. Identify observer cheater motifs\n",
    "# As said in docstrings, functions assume that within matches, killings data are sorted by the sequence of killings, \n",
    "# i.e. by time, and that it is organized by match, i.e. observations from the same match are adjacent.\n",
    "\n",
    "# Stage 2.1 Observants of cheaters under both assumptions\n",
    "possible_motifs = cc.observed_cheating(killings, cheaters)\n",
    "print('Number of times cheating behavior was observed:', len(possible_motifs)) \n",
    "\n",
    "# Stage 2.2 Observer-cheater motifs\n",
    "cheater_motifs = cc.obs_cheater_motifs(possible_motifs)\n",
    "print('Number of observer-cheater motifs:', len(cheater_motifs))"
   ]
  },
  {
   "cell_type": "code",
   "execution_count": 4,
   "metadata": {},
   "outputs": [
    {
     "name": "stdout",
     "output_type": "stream",
     "text": [
      "10 file(s) saved!\n",
      "Number of observer-cheater motifs by universe: [731, 729, 747, 717, 723, 745, 744, 739, 735, 744]\n"
     ]
    }
   ],
   "source": [
    "# Stage 3. Generate alternative universes\n",
    "n_randomizations = 10\n",
    "\n",
    "# 3.1 Generate data\n",
    "# Execute randomizations and save files\n",
    "au.randomize_save('data/kills_random_', killings, cheaters, n_randomizations) \n",
    "\n",
    "# Load all universes in a single list\n",
    "all_univ = au.load_data_onelist('data/kills_random_', n_randomizations) \n",
    "\n",
    "# 3.2 List of observer-cheater motifs for each randomization\n",
    "possible_motifs_r10 = [cc.observed_cheating(all_univ[i], cheaters) for i in range(n_randomizations)]\n",
    "cheater_motifs_r10 = [cc.obs_cheater_motifs(possible_motifs_r10[i]) for i in range(n_randomizations)]\n",
    "\n",
    "# 3.3 Observer-cheater motif count by the original data and for each randomization\n",
    "final_data_ran = [(len(cheater_motifs_r10[i])) for i in range(n_randomizations)]\n",
    "print('Number of observer-cheater motifs by universe:', final_data_ran)\n",
    "\n",
    "final_data = len(cheater_motifs)\n"
   ]
  },
  {
   "cell_type": "code",
   "execution_count": 5,
   "metadata": {
    "scrolled": false
   },
   "outputs": [
    {
     "data": {
      "image/png": "[encoded data removed]",
      "text/plain": [
       "<Figure size 432x288 with 1 Axes>"
      ]
     },
     "metadata": {
      "needs_background": "light"
     },
     "output_type": "display_data"
    }
   ],
   "source": [
    "# Graph\n",
    "import matplotlib.pyplot as plt\n",
    "\n",
    "plt.hist(final_data_ran, color = 'c', label = 'Alternative universes')  \n",
    "plt.axvline(x = final_data, color = 'r', \n",
    "            label = 'Original data')\n",
    "\n",
    "plt.xlabel('Number of observer-cheater motifs')\n",
    "plt.ylabel('Frequency')\n",
    "plt.title('Contagion of cheating behavior')\n",
    "\n",
    "plt.legend(bbox_to_anchor=(1.0, 1), loc='upper left')\n",
    "plt.show()"
   ]
  },
  {
   "cell_type": "markdown",
   "metadata": {},
   "source": [
    "### Brief analysis of results\n",
    "The results from this exercise indicate that the expected hypothesis cannot be assured. If we take these results as correct, exposure to possible cheating behavior does not uniquely incite cheating. An underlying mechanism, which could also explain the increase of observer-cheater motifs when randomizing, is that people who have tendencies to cheat, sooner or later start cheating. \n"
   ]
  }
 ],
 "metadata": {
  "kernelspec": {
   "display_name": "Python 3",
   "language": "python",
   "name": "python3"
  },
  "language_info": {
   "codemirror_mode": {
    "name": "ipython",
    "version": 3
   },
   "file_extension": ".py",
   "mimetype": "text/x-python",
   "name": "python",
   "nbconvert_exporter": "python",
   "pygments_lexer": "ipython3",
   "version": "3.8.5"
  }
 },
 "nbformat": 4,
 "nbformat_minor": 2
}
